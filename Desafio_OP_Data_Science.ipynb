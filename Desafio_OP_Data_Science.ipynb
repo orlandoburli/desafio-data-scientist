{
  "nbformat": 4,
  "nbformat_minor": 0,
  "metadata": {
    "colab": {
      "name": "Desafio OP Data Science",
      "provenance": [],
      "collapsed_sections": []
    },
    "kernelspec": {
      "name": "python3",
      "display_name": "Python 3"
    }
  },
  "cells": [
    {
      "cell_type": "code",
      "metadata": {
        "id": "_hHLGe0Y_2De",
        "colab_type": "code",
        "colab": {}
      },
      "source": [
        "# Desafio OP Data Science\n",
        "# Author: Orlando Burli\n",
        "# Created: 11/03/2020\n",
        "# Instructions:\n",
        "#    For execute, you can upload on codelab this script, and the upload the renttherunway_final_data.json, sended along \n",
        "#    for this challenge. Remember to correct the path in the line 12, and the run all the codes to see the challenge result.\n",
        "\n",
        "# Setup for all analises\n",
        "import pandas as pd\n",
        "import numpy as np\n",
        "\n",
        "data = pd.read_json('/content/drive/My Drive/renttherunway_final_data.json', lines = True)\n",
        "\n",
        "df = pd.DataFrame(data)"
      ],
      "execution_count": 0,
      "outputs": []
    },
    {
      "cell_type": "code",
      "metadata": {
        "id": "bB8iqkPqW0XH",
        "colab_type": "code",
        "outputId": "36354467-1881-4723-b3b4-c6ce1d290526",
        "colab": {
          "base_uri": "https://localhost:8080/",
          "height": 283
        }
      },
      "source": [
        "# Desafio 1: Produza, programaticamente, um gráfico da distribuição de peso (histograma) dos clientes (em Kg),\n",
        "# desconsiderando os pontos de dados que não têm informação sobre o peso;\n",
        "\n",
        "# Passo 1: Calcular o peso em Kg, a partir das libras\n",
        "def calculate_weigth_in_kg(pounds):\n",
        "  pd = str(pounds).replace('lbs', '')\n",
        "  return float(pd) / 2.205 if pd.isnumeric() else -1\n",
        "\n",
        "df[\"weight\"]\n",
        "df[\"weight_in_kg\"] = df.apply(lambda row: calculate_weigth_in_kg(row['weight']), axis=1)\n",
        "\n",
        "# Passo 2: Filtrar somente quem possui o peso corretamente tratado na base\n",
        "df2 = df[df[\"weight_in_kg\"] > 0]\n",
        "\n",
        "# Passo 3: Apresentar os dados, em 10 faixas\n",
        "df2[\"weight_in_kg\"].hist(bins=10)"
      ],
      "execution_count": 0,
      "outputs": [
        {
          "output_type": "execute_result",
          "data": {
            "text/plain": [
              "<matplotlib.axes._subplots.AxesSubplot at 0x7f3bb0fcfa58>"
            ]
          },
          "metadata": {
            "tags": []
          },
          "execution_count": 133
        },
        {
          "output_type": "display_data",
          "data": {
            "image/png": "[encoded data removed]",
            "text/plain": [
              "<Figure size 432x288 with 1 Axes>"
            ]
          },
          "metadata": {
            "tags": []
          }
        }
      ]
    },
    {
      "cell_type": "code",
      "metadata": {
        "id": "cgn-uDhic1Al",
        "colab_type": "code",
        "outputId": "ae4a192b-3f6b-414e-e0ea-8ef5a504eeec",
        "colab": {
          "base_uri": "https://localhost:8080/",
          "height": 35
        }
      },
      "source": [
        "## Desafio 2: Qual razão de aluguel (“rented for”) tem o maior número absoluto de “fits”? Quantos “fits” são para esta razão de aluguel?\n",
        "gp1 = df[df[\"fit\"] == \"fit\"].groupby([\"rented for\"]).size().sort_values(ascending=False).to_frame('total_reasons').reset_index()\n",
        "\n",
        "rented_for = gp1['rented for'].values[0]\n",
        "fits_number = gp1['total_reasons'].values[0]\n",
        "\n",
        "print(f'A razão de aluguel \"{rented_for}\" é a com maior número absoluto, sendo {fits_number}.')"
      ],
      "execution_count": 0,
      "outputs": [
        {
          "output_type": "stream",
          "text": [
            "A razão de aluguel \"wedding\" é a com maior número absoluto, sendo 43111.\n"
          ],
          "name": "stdout"
        }
      ]
    },
    {
      "cell_type": "code",
      "metadata": {
        "id": "fM343p5FplFu",
        "colab_type": "code",
        "outputId": "683ed599-53ea-48b5-aebe-f021f9e49c1d",
        "colab": {
          "base_uri": "https://localhost:8080/",
          "height": 35
        }
      },
      "source": [
        "## Desafio 3: Qual razão de aluguel (“rented for”) tem o maior número relativo de “fits”? Qual é o percentual de “fits” para esta razão de aluguel?\n",
        "gp2 = df[df[\"fit\"] == \"fit\"].groupby([\"rented for\"]).size().sort_values(ascending=False).to_frame('total_reasons').reset_index()\n",
        "\n",
        "total_reasons_fit = gp2['total_reasons'].sum()\n",
        "\n",
        "gp2[\"percentage\"] = gp2.apply(lambda row: row[\"total_reasons\"] / total_reasons_fit, axis=1)\n",
        "\n",
        "gp2 = gp2.sort_values(by='percentage', ascending=False)\n",
        "\n",
        "rented_for = gp2['rented for'].values[0]\n",
        "percentage = gp2['percentage'].values[0]\n",
        "\n",
        "print(f'A razão de aluguel \"{rented_for}\" é a com maior número relativo, sendo sua participação de {percentage*100:1.2f}%.')\n"
      ],
      "execution_count": 0,
      "outputs": [
        {
          "output_type": "stream",
          "text": [
            "A razão de aluguel \"wedding\" é a com maior número relativo, sendo sua participação de 30.35%.\n"
          ],
          "name": "stdout"
        }
      ]
    },
    {
      "cell_type": "code",
      "metadata": {
        "id": "AJ3849Cfv5yI",
        "colab_type": "code",
        "outputId": "817bc088-a73f-46fc-f31b-9c2b4fb528da",
        "colab": {
          "base_uri": "https://localhost:8080/",
          "height": 53
        }
      },
      "source": [
        "## Desafio 4: Produza uma estatística de palavras mais usadas nas avaliações (“review_text”);\n",
        "\n",
        "words = df[\"review_text\"].str.lower().to_frame()\n",
        "words.rename(columns={'review_text':'word'}, inplace=True)\n",
        "words = words[\"word\"].str.split().to_frame().explode('word').groupby(by='word').size().sort_values(ascending=False).to_frame('total_word').reset_index()\n",
        "\n",
        "# Coleção de pronomes e preposições, para melhor análise das palavras\n",
        "pronouns = ['all', 'another', 'any', 'anybody', 'anyone', 'anything', 'as', 'aught', 'both', 'each', 'each other', 'either', 'enough', 'everybody', 'everyone', 'everything', 'few', 'he', 'her', 'hers', 'herself', 'him', 'himself', 'his', 'I', 'idem', 'it', 'its', 'itself', 'many', 'me', 'mine', 'most', 'my', 'myself', 'naught', 'neither', 'no one', 'nobody', 'none', 'nothing', 'nought', 'one', 'one another', 'other', 'others', 'ought', 'our', 'ours', 'ourself', 'ourselves', 'several', 'she', 'some', 'somebody', 'someone', 'something', 'somewhat', 'such', 'suchlike', 'that', 'thee', 'their', 'theirs', 'theirself', 'theirselves', 'them', 'themself', 'themselves', 'there', 'these', 'they', 'thine', 'this', 'those', 'thou', 'thy', 'thyself', 'us', 'we', 'what', 'whatever', 'whatnot', 'whatsoever', 'whence', 'where', 'whereby', 'wherefrom', 'wherein', 'whereinto', 'whereof', 'whereon', 'wherever', 'wheresoever', 'whereto', 'whereunto', 'wherewith', 'wherewithal', 'whether', 'which', 'whichever', 'whichsoever', 'who', 'whoever', 'whom', 'whomever', 'whomso', 'whomsoever', 'whose', 'whosever', 'whosesoever', 'whoso', 'whosoever', 'ye', 'yon', 'yonder', 'you', 'your', 'yours', 'yourself', 'yourselves']\n",
        "preposition = ['aboard', 'about', 'above', 'absent', 'across', 'after', 'against', 'along', 'alongside', 'amid', 'among', 'amongst', 'anti', 'around', 'as', 'at', 'before', 'behind', 'below', 'beneath', 'beside', 'besides', 'between', 'beyond', 'but', 'by', 'circa', 'concerning', 'considering', 'despite', 'down', 'during', 'except', 'excepting', 'excluding', 'failing', 'following', 'for', 'from', 'given', 'in', 'inside', 'into', 'like', 'minus', 'near', 'of', 'off', 'on', 'onto', 'opposite', 'outside', 'over', 'past', 'per', 'plus', 'regarding', 'round', 'save', 'since', 'than', 'through', 'to', 'toward', 'towards', 'under', 'underneath', 'unlike', 'until', 'up', 'upon', 'versus', 'via', 'with', 'within', 'without', 'worth']\n",
        "\n",
        "# Colunas indicando se as palavras são pronomes ou artigos\n",
        "words[\"pronoun\"] = words.apply(lambda row: row['word'] in pronouns, axis=1)\n",
        "words[\"preposition\"] = words.apply(lambda row: row['word'] in preposition, axis=1)\n",
        "\n",
        "# Funções de filtro\n",
        "is_pronoun = words['pronoun']\n",
        "is_preposition = words['preposition']\n",
        "\n",
        "# Totais\n",
        "count_words = words['word'].count()\n",
        "count_pronouns = words[is_pronoun]['word'].count()\n",
        "count_preposition = words[is_preposition]['word'].count()\n",
        "\n",
        "total_words = words['total_word'].sum()\n",
        "total_pronouns = words[is_pronoun]['total_word'].sum()\n",
        "total_preposition = words[is_preposition]['total_word'].sum()\n",
        "\n",
        "percent_pronouns = total_pronouns / total_words\n",
        "percent_preposition = total_preposition / total_words\n",
        "\n",
        "# Colunas percentuais\n",
        "words['percent'] = words.apply(lambda row: row['total_word'] / total_words, axis=1)\n",
        "\n",
        "top_word = words['word'].values[0]\n",
        "top_word_total = words['total_word'].values[0]\n",
        "top_word_percent = words['percent'].values[0]\n",
        "\n",
        "print(f'Temos um total de {count_words:,} palavras, das quais {count_preposition:,} são preposições e {count_pronouns:,} são pronomes, equivalentes a {percent_preposition:1.2f}% e {percent_pronouns:1.2f}%, respectivamente.')\n",
        "\n",
        "print(f'A palavra mais citada é \"{top_word}\", com {top_word_total:,} citações, equivalente a {top_word_percent:1.2f}% do total.')\n"
      ],
      "execution_count": 0,
      "outputs": [
        {
          "output_type": "stream",
          "text": [
            "Temos um total de 107,167 palavras, das quais 75 são preposições e 84 são pronomes, equivalentes a 0.12% e 0.10%, respectivamente.\n",
            "A palavra mais citada é \"the\", com 642,910 citações, equivalente a 0.06% do total.\n"
          ],
          "name": "stdout"
        }
      ]
    },
    {
      "cell_type": "code",
      "metadata": {
        "id": "EZ2Eh1dBXQEd",
        "colab_type": "code",
        "outputId": "9f22c591-7587-45c5-fe4e-52f4cf6594fb",
        "colab": {
          "base_uri": "https://localhost:8080/",
          "height": 143
        }
      },
      "source": [
        "# Desafio 5: Que outra estatística ou insight você poderia extrair destes dados?\n",
        "\n",
        "# Aqui iremos analisar, por tipo de corpo, o percentual de roupas que são para clientes \"fora de forma\".\n",
        "# Tal informação servirá de base para decisão para qual é o padrão de cliente atendido pela empresa de aluguéis.\n",
        "\n",
        "gp_fit = df[df[\"fit\"] != \"fit\"].groupby([\"body type\"]).size().sort_values(ascending=False).to_frame('total_fit').reset_index()\n",
        "\n",
        "gp_not_fit = df[df[\"fit\"] == \"fit\"].groupby([\"body type\"]).size().sort_values(ascending=False).to_frame('total_not_fit').reset_index()\n",
        "\n",
        "gp_body = pd.merge(gp_fit, gp_not_fit)\n",
        "\n",
        "gp_body[\"total\"] = gp_body.apply(lambda row: row['total_fit'] + row['total_not_fit'], axis=1)\n",
        "gp_body[\"percent_not_fit\"] = gp_body.apply(lambda row: row['total_not_fit'] / row['total'], axis=1)\n",
        "\n",
        "def message_body(body_type, percent_not_fit):\n",
        "  return f'O cliente com o corpo \"{body_type}\" é considerado fora de forma em {percent_not_fit * 100:1.2f}% dos casos.'\n",
        "\n",
        "gp_body[\"message\"] = gp_body.apply(lambda row: message_body(row['body type'], row['percent_not_fit']), axis=1)\n",
        "\n",
        "gp_body = gp_body.sort_values(ascending=False,by='percent_not_fit')\n",
        "\n",
        "messages = gp_body['message'].to_numpy()\n",
        "\n",
        "for m in np.nditer(messages, ['refs_ok']):\n",
        "  print(m)\n"
      ],
      "execution_count": 187,
      "outputs": [
        {
          "output_type": "stream",
          "text": [
            "O cliente com o corpo \"straight & narrow\" é considerado fora de forma em 74.60% dos casos.\n",
            "O cliente com o corpo \"athletic\" é considerado fora de forma em 74.33% dos casos.\n",
            "O cliente com o corpo \"petite\" é considerado fora de forma em 74.31% dos casos.\n",
            "O cliente com o corpo \"hourglass\" é considerado fora de forma em 73.82% dos casos.\n",
            "O cliente com o corpo \"pear\" é considerado fora de forma em 72.90% dos casos.\n",
            "O cliente com o corpo \"full bust\" é considerado fora de forma em 71.80% dos casos.\n",
            "O cliente com o corpo \"apple\" é considerado fora de forma em 71.50% dos casos.\n"
          ],
          "name": "stdout"
        }
      ]
    }
  ]
}